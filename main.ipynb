{
 "cells": [
  {
   "cell_type": "code",
   "execution_count": 2,
   "metadata": {},
   "outputs": [],
   "source": [
    "import numpy as np\n",
    "import pandas as pd\n",
    "from matplotlib import pyplot as plt"
   ]
  },
  {
   "cell_type": "code",
   "execution_count": 55,
   "metadata": {},
   "outputs": [],
   "source": [
    "# Load and preprocess the data\n",
    "data = pd.read_csv('digit-recognizer/train.csv')\n",
    "data = np.array(data)\n",
    "np.random.shuffle(data)\n"
   ]
  },
  {
   "cell_type": "code",
   "execution_count": 56,
   "metadata": {},
   "outputs": [],
   "source": [
    "# Split into dev and training sets\n",
    "dev_size = 1000\n",
    "data_dev = data[:dev_size].T\n",
    "Y_dev = data_dev[0]\n",
    "X_dev = data_dev[1:] / 255.\n",
    "\n",
    "data_train = data[dev_size:].T\n",
    "Y_train = data_train[0]\n",
    "X_train = data_train[1:] / 255.\n",
    "m = X_train.shape[1]"
   ]
  },
  {
   "cell_type": "code",
   "execution_count": 29,
   "metadata": {},
   "outputs": [],
   "source": [
    "data = np.array(data)\n",
    "m, n = data.shape\n",
    "np.random.shuffle(data)\n",
    "\n",
    "data_dev = data[0:1000].T\n",
    "X_dev = data_dev[1:n]\n",
    "Y_dev = data_dev[0]\n",
    "\n",
    "data_train = data[1000:m].T\n",
    "X_train = data_train[1:n]\n",
    "Y_train = data_train[0]\n",
    "\n"
   ]
  },
  {
   "cell_type": "code",
   "execution_count": 57,
   "metadata": {},
   "outputs": [],
   "source": [
    "# Initialization\n",
    "def init_params():\n",
    "    W1 = np.random.randn(64, 784) * 0.01\n",
    "    b1 = np.zeros((64, 1))\n",
    "    W2 = np.random.randn(10, 64) * 0.01\n",
    "    b2 = np.zeros((10, 1))\n",
    "    return W1, b1, W2, b2\n",
    "\n",
    "# Activation functions\n",
    "def ReLU(Z):\n",
    "    return np.maximum(0, Z)\n",
    "\n",
    "def deriv_ReLU(Z):\n",
    "    return (Z > 0).astype(float)\n",
    "\n",
    "def softmax(Z):\n",
    "    Z -= np.max(Z, axis=0, keepdims=True)\n",
    "    expZ = np.exp(Z)\n",
    "    return expZ / np.sum(expZ, axis=0, keepdims=True)\n",
    "\n",
    "# Forward propagation\n",
    "def forward_prop(W1, b1, W2, b2, X):\n",
    "    Z1 = W1 @ X + b1\n",
    "    A1 = ReLU(Z1)\n",
    "    Z2 = W2 @ A1 + b2\n",
    "    A2 = softmax(Z2)\n",
    "    return Z1, A1, Z2, A2\n",
    "\n",
    "# One-hot encoding\n",
    "def one_hot(Y):\n",
    "    one_hot_Y = np.zeros((Y.max() + 1, Y.size))\n",
    "    one_hot_Y[Y, np.arange(Y.size)] = 1\n",
    "    return one_hot_Y\n",
    "\n",
    "# Backward propagation\n",
    "def back_prop(Z1, A1, A2, W2, X, Y):\n",
    "    one_hot_Y = one_hot(Y)\n",
    "    dZ2 = A2 - one_hot_Y\n",
    "    dW2 = dZ2 @ A1.T / m\n",
    "    db2 = np.sum(dZ2, axis=1, keepdims=True) / m\n",
    "\n",
    "    dZ1 = W2.T @ dZ2 * deriv_ReLU(Z1)\n",
    "    dW1 = dZ1 @ X.T / m\n",
    "    db1 = np.sum(dZ1, axis=1, keepdims=True) / m\n",
    "\n",
    "    return dW1, db1, dW2, db2\n",
    "\n",
    "# Update parameters\n",
    "def update(W1, b1, W2, b2, dW1, db1, dW2, db2, alpha):\n",
    "    W1 -= alpha * dW1\n",
    "    b1 -= alpha * db1\n",
    "    W2 -= alpha * dW2\n",
    "    b2 -= alpha * db2\n",
    "    return W1, b1, W2, b2\n"
   ]
  },
  {
   "cell_type": "code",
   "execution_count": 59,
   "metadata": {},
   "outputs": [],
   "source": [
    "# Predictions and accuracy\n",
    "def predict(A2):\n",
    "    return np.argmax(A2, axis=0)\n",
    "\n",
    "def accuracy(preds, Y):\n",
    "    return np.mean(preds == Y)\n",
    "\n",
    "# Training loop\n",
    "def train(X, Y, iterations, alpha):\n",
    "    W1, b1, W2, b2 = init_params()\n",
    "    for i in range(iterations + 1):\n",
    "        Z1, A1, Z2, A2 = forward_prop(W1, b1, W2, b2, X)\n",
    "        dW1, db1, dW2, db2 = back_prop(Z1, A1, A2, W2, X, Y)\n",
    "        W1, b1, W2, b2 = update(W1, b1, W2, b2, dW1, db1, dW2, db2, alpha)\n",
    "\n",
    "        if i % 50 == 0:\n",
    "            preds = predict(A2)\n",
    "            acc = accuracy(preds, Y)\n",
    "            print(f\"Iteration {i} - Training Accuracy: {acc:.4f}\")\n",
    "    return W1, b1, W2, b2"
   ]
  },
  {
   "cell_type": "code",
   "execution_count": 60,
   "metadata": {},
   "outputs": [
    {
     "name": "stdout",
     "output_type": "stream",
     "text": [
      "Iteration 0 - Training Accuracy: 0.0980\n",
      "Iteration 50 - Training Accuracy: 0.4578\n",
      "Iteration 100 - Training Accuracy: 0.7648\n",
      "Iteration 150 - Training Accuracy: 0.8335\n",
      "Iteration 200 - Training Accuracy: 0.8621\n",
      "Iteration 250 - Training Accuracy: 0.8776\n",
      "Iteration 300 - Training Accuracy: 0.8871\n",
      "Iteration 350 - Training Accuracy: 0.8930\n",
      "Iteration 400 - Training Accuracy: 0.8978\n",
      "Iteration 450 - Training Accuracy: 0.9016\n",
      "Iteration 500 - Training Accuracy: 0.9043\n"
     ]
    }
   ],
   "source": [
    "# Run training\n",
    "W1, b1, W2, b2 = train(X_train, Y_train, iterations=500, alpha=0.1)\n"
   ]
  },
  {
   "cell_type": "code",
   "execution_count": 61,
   "metadata": {},
   "outputs": [
    {
     "name": "stdout",
     "output_type": "stream",
     "text": [
      "Dev Set Accuracy: 0.905\n"
     ]
    }
   ],
   "source": [
    "# Evaluate on dev set\n",
    "_, _, _, A2_dev = forward_prop(W1, b1, W2, b2, X_dev)\n",
    "pred_dev = predict(A2_dev)\n",
    "print(\"Dev Set Accuracy:\", accuracy(pred_dev, Y_dev))\n"
   ]
  },
  {
   "cell_type": "code",
   "execution_count": null,
   "metadata": {},
   "outputs": [],
   "source": []
  }
 ],
 "metadata": {
  "kernelspec": {
   "display_name": "Python 3",
   "language": "python",
   "name": "python3"
  },
  "language_info": {
   "codemirror_mode": {
    "name": "ipython",
    "version": 3
   },
   "file_extension": ".py",
   "mimetype": "text/x-python",
   "name": "python",
   "nbconvert_exporter": "python",
   "pygments_lexer": "ipython3",
   "version": "3.12.2"
  }
 },
 "nbformat": 4,
 "nbformat_minor": 2
}
